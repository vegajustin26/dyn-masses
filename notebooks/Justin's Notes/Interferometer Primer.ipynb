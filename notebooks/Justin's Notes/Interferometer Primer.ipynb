{
 "cells": [
  {
   "cell_type": "markdown",
   "metadata": {},
   "source": [
    "# From [Interferometry Primer notebook](https://github.com/seanandrews/DSHARP_CPDs/blob/master/notebooks/Part3_InterferometryPrimer.ipynb)"
   ]
  },
  {
   "cell_type": "markdown",
   "metadata": {},
   "source": [
    "### Detection\n",
    "* Interferometer measures electric field induced by the intensity of the source (star, planet, disk, etc.)\n",
    "    * In the form of an __EM wave__ with voltage:\n",
    "\n",
    "    $$V_i = A_i\\cos(2 \\pi vt)$$\n",
    "\n",
    "    * If data is also taken from another source at some baseline distance $D_{ij}$, data is captured at different times\n",
    "        * There is an associated geometric time delay:\n",
    "        $$V_j= A_j\\cos(2\\pi v[t+\\tau_g])$$ \n",
    "        where $\\tau$ is the time difference.\n",
    "        \n"
   ]
  },
  {
   "cell_type": "markdown",
   "metadata": {},
   "source": [
    "### Receiving/Processing\n",
    "* <blockquote> These voltages are passed from the receiver, through a \"mixer\" (to properly transmit the signals), to a \"correlator\", which is the machinery that records the measurements.  The correlator cross-correlates the signals from antenna pairs, essentially multiplies and integrates over a given integration interval.\n",
    "</blockquote>\n",
    "\n",
    "* Both EM waves can be represented in terms of __visibilities:__\n",
    "    * A __visibility__ is a complex number: it has an amplitude and a phase, or (more commonly) a real and imaginary component\n",
    "\n",
    "    $$\\mathcal{V}_{ij} = \\langle V_i V_j \\rangle_t = \\langle A_i A_j^\\ast \\cos{(2 \\pi \\nu t)} \\cos{(2 \\pi [\\nu t + \\nu \\tau_g])} \\rangle_t$$\n",
    "    \n",
    "    * which can be expressed as sum of two cosine terms:\n",
    "    $$\\mathcal{V}_{ij} = \\langle A_i A_j^\\ast \\frac{1}{2}\\cos{(4 \\pi \\nu t)} \\rangle_t + \\langle A_i A_j^\\ast \\frac{1}{2}\\cos{(2 \\pi \\nu \\tau_g)} \\rangle_t$$\n",
    "\n",
    "    * __Explanation__\n",
    "        1. Visibilities are represented as oscillating waves with phases (__fringe patterns__) that are dependent on the distance between antennas projected onto the sky (geometric delay) and the frequency of the waves\n",
    "            * First of the terms loosely \"averages to zero\" over time\n",
    "            * Frequency of waves are expressed as spatial frequencies $(u, v)$ (disk/celestial object frame) instead of being dependent on $(i, j)$ (earth observer frame)\n",
    "                * usually packaged in terms of wavelength (kilolambda, megalambda)\n",
    "        2. Geometric delay changes over time because of Earth's rotation\n",
    "            * Allows us to collect more spatial frequencies/reconstruct more emission distribution\n",
    "* Visibility at spatial frequencies $(u, v)$ can be represented as the Fourier Transform of the intensity distribution $I_\\nu$:\n",
    "\n",
    "    $$\\mathcal{V}_\\nu(u, v) = \\iint I_\\nu(l, m) \\, e^{-i 2 \\pi (ul + vm)} \\, dl \\, dm$$\n",
    "    \n",
    "    where $(l, m)$ are transformed spatial coordinates (see slide 8 of [this presentation](https://drive.google.com/file/d/1snWR17-5llqqoY5BHPW4I9iFJLAdYCK2/view)).\n",
    "    * This intensity is projected onto the celestial sphere\n",
    "    \n",
    "#### Addendum (9/24 Notes)\n",
    "* Mixing phase also involves _local oscillator_, which mixes the signal from radio frequency (~300 GHz) to orders around (1 GHz)\n",
    "    * preserves the beat frequencies between the two telescope signals\n",
    "* Then travels through fiber optic cables to correlator (differences in path length are accounted)\n",
    "* Correlator not only multiplies and integrates, but also embeds a _window function_ to the data\n",
    "    * __Window function__ tells us how the spectrum is distributed into channels\n",
    "        * Spacing in channels is determined by the geometric time delay $\\tau_g$ of the signals\n",
    "    * Voltage equations are multiplied by multiple window functions = one visibility * autocorrelated window functions\n",
    "        * These are multiplied by spectral response functions?\n",
    "            * These are kernels (vector $\\vec{v}$ such that $A \\cdot \\vec{v} = 0$?) that blur the spectra\n",
    "            * The FWHM of two channels"
   ]
  },
  {
   "cell_type": "markdown",
   "metadata": {},
   "source": [
    "### Review (thus far)\n",
    "<blockquote> To re-iterate: the interferometer measures a collection of complex numbers $\\{\\mathcal{V}_\\nu(u, v)\\}$, each of which contains some information (at specific spatial frequencies $(u, v)$) about the image of interest, $I_\\nu(l, m)$ in the form of its Fourier Transform (FT).  If we had an interferometer that was capable of measuring visibilities at *all* spatial frequencies, we could directly measure the image itself through an inverse FT.  As you'll learn below, that's not the case!\n",
    "</blockquote>"
   ]
  },
  {
   "cell_type": "markdown",
   "metadata": {},
   "source": [
    "### Fourier Transform Properties\n",
    "* Examples are in 1D case, but we can apply it the same in 2D cases too\n",
    "* Fourier transform of a function $g(x)$ is $G(s)$, where $x$ is the spatial coordinate (angle on the sky) and $s$ is the spatial frequency\n",
    "    * $g(x) \\,\\, ^\\mathcal{F}_\\rightarrow \\,\\, G(s)$  is short-hand for  $G(s) = \\int g(x) \\, e^{-i 2\\pi x s} \\,dx$\n",
    "* __Linearity:__\n",
    "    * Addition\n",
    "    \n",
    "    $g(x) + h(x) \\,\\, ^\\mathcal{F}_\\rightarrow \\,\\, G(s) + H(s)$\n",
    "\n",
    "\n",
    "* __Convolution theorem:__\n",
    "    * Convolution in one plane is multiplication in the other\n",
    "    \n",
    "    $g(x) = h(x) \\ast k(x) \\,\\, ^\\mathcal{F}_\\rightarrow \\,\\, G(s) = H(s) \\times K(s)$\n",
    "    \n",
    "* __Scaling__    \n",
    "    * A larger function in one domain is proportionately smaller in the other\n",
    "\n",
    "    $g(a\\,x) \\,\\, ^\\mathcal{F}_\\rightarrow \\,\\, \\frac{1}{a} \\, G(s / a)$\n",
    "\n",
    "* __Shifts__\n",
    "    * An offset in one domain corresponds to a phase shift in the other:\n",
    "\n",
    "    $g(x - x_0) \\,\\, ^\\mathcal{F}_\\rightarrow \\,\\, G(s) \\, e^{-i 2\\pi x_0 s}$\n"
   ]
  },
  {
   "cell_type": "markdown",
   "metadata": {},
   "source": [
    "### Sampling Function and Imaging\n",
    "* The sampling function is a collection of $(u, v)$ points that were recorded in observation\n",
    "* __Function:__\n",
    "\n",
    "    $S(u, v) = \\sum_k \\, \\delta(u - u_k, v-v_k)$\n",
    "    \n",
    "    (basically a sum of Dirac delta functions at each pair of spatial frequencies)\n",
    "    * Refresh: delta functions take on a value at particular coordinate, 0 elsewhere\n",
    "    * Hermitian, so $S(u, v)$ = $S(-u, -v)$\n",
    "* The observed visibilites are actually $V_v(u, v)$, such that:\n",
    "\n",
    "    $$V_\\nu(u, v) = S(u, v) \\, \\times \\, \\mathcal{V}_\\nu(u, v)$$  \n",
    "    \n",
    "    * Inverse Fourier transform of visibilities ($\\mathcal{F}^{-1}\\{ V_\\nu(u, v)\\} $) is intensity distribution dirty image $I_\\nu^D(l, m)$\n",
    "        * The dirty image is the convolution of the true image ($\\mathcal{V}_\\nu(u, v)$, or $I_\\nu(l, m)$) with the dirty beam, $s(l, m)$, also referred to as the point-spread function (PSF) or \"synthesized\" beam, which is the FT of the sampling Function ($S(u, v) \\,\\, ^\\mathcal{F}_\\rightarrow \\,\\, s(l, m)$)\n",
    "\n",
    "        $$I_\\nu^D(l, m) = s(l, m) \\, \\ast \\, I_\\nu(l, m)$$\n",
    "* To reproduce clean image, use a non-linear deconvolution algorithm $\\mathtt{clean}$ [(more info here)](https://drive.google.com/file/d/1cB7_B3NtOt2HcnVWbgQ2lvKMkIGJKt_r/view)"
   ]
  },
  {
   "cell_type": "markdown",
   "metadata": {},
   "source": [
    "# From [Imaging](https://www.cfa.harvard.edu/~dwilner/videos/SMAIS_2020_Imaging.mp4) Lecture"
   ]
  },
  {
   "cell_type": "markdown",
   "metadata": {},
   "source": [
    "* short baseline- wide fringe pattern, low angular resolution\n",
    "* long baseline- narrow fringe pattern, high angular resolution"
   ]
  },
  {
   "cell_type": "markdown",
   "metadata": {},
   "source": [
    "### 9/24 Notes\n",
    "__Takeaways from Interferometry Primer:__\n",
    "* Fourier transform of point source will be constant\n",
    "* Fourier transform of an elliptical gaussian distribution will be a rotated elliptical gaussian distribution\n",
    "* Fourier transforms of sharp edges (uniform disk) are bessel functions\n",
    "\n",
    "__(narrow features turn into wide features)__ = things captured at smaller baselines represent large-scale structure and vice versa\n",
    "* more angular resolution at larger baselines, but usually need many baselines of varying sizes to fully reconstruct the angular distribution of an object\n",
    "\n",
    "__Resolution of interferometer:__ $\\theta_b \\sim \\lambda/d$ where d is either telescope diameter, or baseline b/w antennas\n",
    "* For small scale data (high baseline), the telescopes are separated by ~16 km, gets you a resolution of ~ 0.03 arcsec\n",
    "* For large structure data (low baseline), telescopes are separated by 0.5-2 km\n",
    "\n",
    "\n",
    "* On a plot of visibility vs. baseline, there is less visibility as you go further in baseline b/c there is less emission at a finer resolution\n",
    "\n",
    "* However, visibility data is limited, you can't measure all (u, v) values\n",
    "\n",
    "* Baselines within interferometry presents limitations on how large you can go\n",
    "    * only really a problem for galaxy/stellar research, they combat this by taking interferometer data (multiple telescopes) and add it to the source from one telescope (to get extended view)\n",
    "    \n",
    "Likelihood calculation is possible, the post processing is the difficult part\n",
    "\n",
    "__Problems to overcome in post processing of likelihood calculation:__\n",
    "1. Because there are window functions and spectral response functions embedded into data, each channel map is not independent\n",
    "    * channel map i and i+1 are covariant with one another, and the fake data needs to also conform to this using some kind of covariance matrix\n",
    "2. Alma does not record data in an independent fixed reference frame\n",
    "    * Uses the __LSRK (Kinematic Local Standard of Rest)__\n",
    "        * Average motion of material in the Milky Way in the neighborhood of the Sun (stars in radius 100 pc from the Sun) [wiki](https://en.wikipedia.org/wiki/Local_standard_of_rest#:~:text=In%20astronomy%2C%20the%20local%20standard,material%20is%20not%20precisely%20circular.)\n",
    "            * In the range of 202–241 km/s\n",
    "    * Easy to fix in theory, apply transformation to data\n",
    "        * __Except__ applying transformations to hundreds of data cubes takes an enormously long time\n",
    "        * Because of the convolution and interpolation of the transformation, it biases parameters\n",
    "            * not dynamical mass\n",
    "    * One way to fix:\n",
    "        * Bin the observations by one channel map\n",
    "            * Only transform the halfway point of the observation dataset to standard coordinates\n",
    "                * covariance matrix will have no covariance, because just single channel map\n",
    "                * But applying window function makes the matrix invertible (poorly conditioned matrix)\n",
    "        * Bin the observations by two channel maps (successful)\n",
    "            * Creates a tri-diagonal covariance matrix, which is invertible\n",
    "        * __Consequence__: you need 2x better resolution to do this approach\n",
    "            * This makes posterior widths narrower than they should be, creating precision that you don't have\n",
    "\n",
    "__Processes that take the longest:__\n",
    "1. Generating cubes\n",
    "    * can potentially speed this up\n",
    "2. FT of cubes\n",
    "3. Interpolation of spectra\n",
    "    * Can speed this up using Numba\n",
    "        * instead of broadcasting arrays, turn them into loops\n",
    "\n",
    "\n",
    "### Resources:\n",
    "[Geometry of Interferometry](https://drive.google.com/file/d/1snWR17-5llqqoY5BHPW4I9iFJLAdYCK2/view)"
   ]
  },
  {
   "cell_type": "code",
   "execution_count": null,
   "metadata": {},
   "outputs": [],
   "source": []
  }
 ],
 "metadata": {
  "kernelspec": {
   "display_name": "Python 3",
   "language": "python",
   "name": "python3"
  },
  "language_info": {
   "codemirror_mode": {
    "name": "ipython",
    "version": 3
   },
   "file_extension": ".py",
   "mimetype": "text/x-python",
   "name": "python",
   "nbconvert_exporter": "python",
   "pygments_lexer": "ipython3",
   "version": "3.6.10"
  }
 },
 "nbformat": 4,
 "nbformat_minor": 4
}
